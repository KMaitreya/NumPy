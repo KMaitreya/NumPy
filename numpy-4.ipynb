{
 "cells": [
  {
   "cell_type": "code",
   "execution_count": 1,
   "id": "8567f547",
   "metadata": {},
   "outputs": [],
   "source": [
    "#Basic mathematics with a numpy array"
   ]
  },
  {
   "cell_type": "code",
   "execution_count": 2,
   "id": "44888eb1",
   "metadata": {},
   "outputs": [],
   "source": [
    "#importing numpy\n",
    "import numpy as np"
   ]
  },
  {
   "cell_type": "code",
   "execution_count": 3,
   "id": "5081293a",
   "metadata": {},
   "outputs": [
    {
     "name": "stdout",
     "output_type": "stream",
     "text": [
      "addition - [3 4 5 6]\n",
      "subtraction - [-1  0  1  2]\n",
      "multiplication - [2 4 6 8]\n",
      "divition - [0.5 1.  1.5 2. ]\n"
     ]
    }
   ],
   "source": [
    "#basic arithmetics\n",
    "a=np.array([1, 2, 3, 4])\n",
    "\n",
    "#addition\n",
    "print(\"addition -\",(a+2))\n",
    "\n",
    "#subtraction\n",
    "print(\"subtraction -\",(a-2))\n",
    "\n",
    "#multiplication\n",
    "print(\"multiplication -\",(a*2))\n",
    "\n",
    "#division\n",
    "print(\"divition -\",(a/2))"
   ]
  },
  {
   "cell_type": "code",
   "execution_count": 4,
   "id": "f9343043",
   "metadata": {},
   "outputs": [
    {
     "name": "stdout",
     "output_type": "stream",
     "text": [
      "[ 5  7  9 11]\n"
     ]
    }
   ],
   "source": [
    "#sum of two arrays\n",
    "a=np.array([1, 2, 3, 4])\n",
    "b=np.array([4, 5, 6, 7])\n",
    "print(a+b)\n",
    "\n",
    "#same goes with other operations"
   ]
  },
  {
   "cell_type": "code",
   "execution_count": 5,
   "id": "4138d35e",
   "metadata": {},
   "outputs": [
    {
     "name": "stdout",
     "output_type": "stream",
     "text": [
      "a^2- [ 1  4  9 16]\n",
      "a^3- [ 1  8 27 64]\n"
     ]
    }
   ],
   "source": [
    "#power\n",
    "a=np.array([1, 2, 3, 4])\n",
    "\n",
    "#a^2\n",
    "print(\"a^2-\",a**2)\n",
    "\n",
    "#a^3\n",
    "print(\"a^3-\",a**3)"
   ]
  },
  {
   "cell_type": "code",
   "execution_count": 6,
   "id": "9037b461",
   "metadata": {},
   "outputs": [
    {
     "name": "stdout",
     "output_type": "stream",
     "text": [
      "sin- [ 0.84147098  0.90929743  0.14112001 -0.7568025 ]\n",
      "cos- [ 0.54030231 -0.41614684 -0.9899925  -0.65364362]\n",
      "tan- [ 1.55740772 -2.18503986 -0.14254654  1.15782128]\n"
     ]
    }
   ],
   "source": [
    "#trigonometry functions\n",
    "a=np.array([1, 2, 3, 4])\n",
    "\n",
    "#sin\n",
    "print(\"sin-\",np.sin(a))\n",
    "\n",
    "#cos\n",
    "print(\"cos-\",np.cos(a))\n",
    "\n",
    "#tan\n",
    "print(\"tan-\",np.tan(a))"
   ]
  },
  {
   "cell_type": "code",
   "execution_count": 8,
   "id": "75515cf0",
   "metadata": {},
   "outputs": [
    {
     "name": "stdout",
     "output_type": "stream",
     "text": [
      "[[1. 1. 1.]\n",
      " [1. 1. 1.]] \n",
      "\n",
      "[[2 2]\n",
      " [2 2]\n",
      " [2 2]] \n",
      "\n",
      "[[6. 6.]\n",
      " [6. 6.]]\n"
     ]
    }
   ],
   "source": [
    "#matrix multiplication\n",
    "a=np.ones((2, 3))\n",
    "print(a, \"\\n\")\n",
    "b=np.full((3, 2), 2)\n",
    "print(b, \"\\n\")\n",
    "\n",
    "print(np.matmul(a, b))"
   ]
  },
  {
   "cell_type": "code",
   "execution_count": 9,
   "id": "fbfefe01",
   "metadata": {},
   "outputs": [
    {
     "name": "stdout",
     "output_type": "stream",
     "text": [
      "1.0\n"
     ]
    }
   ],
   "source": [
    "#determinant of matrix\n",
    "a=np.identity(3)\n",
    "print(np.linalg.det(a))"
   ]
  }
 ],
 "metadata": {
  "kernelspec": {
   "display_name": "Python 3",
   "language": "python",
   "name": "python3"
  },
  "language_info": {
   "codemirror_mode": {
    "name": "ipython",
    "version": 3
   },
   "file_extension": ".py",
   "mimetype": "text/x-python",
   "name": "python",
   "nbconvert_exporter": "python",
   "pygments_lexer": "ipython3",
   "version": "3.8.8"
  }
 },
 "nbformat": 4,
 "nbformat_minor": 5
}
