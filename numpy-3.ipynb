{
 "cells": [
  {
   "cell_type": "code",
   "execution_count": 1,
   "id": "6fb6ced0",
   "metadata": {},
   "outputs": [],
   "source": [
    "#Initializing different types of arrays"
   ]
  },
  {
   "cell_type": "code",
   "execution_count": 2,
   "id": "cd42f876",
   "metadata": {},
   "outputs": [],
   "source": [
    "#importing numpy\n",
    "import numpy as np"
   ]
  },
  {
   "cell_type": "code",
   "execution_count": 15,
   "id": "7abd42c0",
   "metadata": {},
   "outputs": [
    {
     "name": "stdout",
     "output_type": "stream",
     "text": [
      "1d matrix-\n",
      " [0. 0. 0. 0. 0.]\n",
      "\n",
      "\n",
      "2d matrix-\n",
      " [[0. 0. 0.]\n",
      " [0. 0. 0.]\n",
      " [0. 0. 0.]]\n",
      "\n",
      "\n",
      "3dmatrix -\n",
      " [[[0. 0. 0.]\n",
      "  [0. 0. 0.]\n",
      "  [0. 0. 0.]]\n",
      "\n",
      " [[0. 0. 0.]\n",
      "  [0. 0. 0.]\n",
      "  [0. 0. 0.]]]\n"
     ]
    }
   ],
   "source": [
    "#all 0s matrix\n",
    "\n",
    "#1d matrix\n",
    "print(\"1d matrix-\\n\",np.zeros(5))\n",
    "\n",
    "#2d matrix\n",
    "print(\"\\n\\n2d matrix-\\n\",np.zeros((3, 3)))\n",
    "\n",
    "#3d matrix\n",
    "print(\"\\n\\n3dmatrix -\\n\",np.zeros((2, 3, 3)))"
   ]
  },
  {
   "cell_type": "code",
   "execution_count": 3,
   "id": "f712f0be",
   "metadata": {},
   "outputs": [
    {
     "name": "stdout",
     "output_type": "stream",
     "text": [
      "1d matrix-\n",
      " [1. 1. 1. 1. 1.]\n",
      "\n",
      "\n",
      "2d matrix-\n",
      " [[1. 1. 1.]\n",
      " [1. 1. 1.]\n",
      " [1. 1. 1.]]\n",
      "\n",
      "\n",
      "3dmatrix -\n",
      " [[[1. 1. 1.]\n",
      "  [1. 1. 1.]\n",
      "  [1. 1. 1.]]\n",
      "\n",
      " [[1. 1. 1.]\n",
      "  [1. 1. 1.]\n",
      "  [1. 1. 1.]]]\n"
     ]
    }
   ],
   "source": [
    "#all 1s matrix\n",
    "\n",
    "#1d matrix\n",
    "print(\"1d matrix-\\n\",np.ones(5))\n",
    "\n",
    "#2d matrix\n",
    "print(\"\\n\\n2d matrix-\\n\",np.ones((3, 3)))\n",
    "\n",
    "#3d matrix\n",
    "print(\"\\n\\n3dmatrix -\\n\",np.ones((2, 3, 3)))"
   ]
  },
  {
   "cell_type": "code",
   "execution_count": 7,
   "id": "d3597556",
   "metadata": {},
   "outputs": [
    {
     "name": "stdout",
     "output_type": "stream",
     "text": [
      "[[100 100]\n",
      " [100 100]]\n",
      "\n",
      " [[99 99 99 99 99 99 99]\n",
      " [99 99 99 99 99 99 99]]\n"
     ]
    }
   ],
   "source": [
    "#any other number\n",
    "#np.full((r, c), number)\n",
    "print(np.full((2,2), 100))   \n",
    "\n",
    "#you can also pass the shape on a previously existing matrix\n",
    "a=np.array([[1, 2, 3, 4, 5, 6, 7], [8, 9, 10, 11, 12, 13, 14]])\n",
    "print(\"\\n\", np.full(a.shape, 99))"
   ]
  },
  {
   "cell_type": "code",
   "execution_count": 12,
   "id": "3c58c2b9",
   "metadata": {},
   "outputs": [
    {
     "name": "stdout",
     "output_type": "stream",
     "text": [
      "[[0.94710742 0.98285129]\n",
      " [0.42049549 0.63489596]\n",
      " [0.58300986 0.47343975]\n",
      " [0.97769778 0.40077323]]\n",
      "\n",
      " [[0.94240382 0.50767927 0.23945188 0.52815793 0.17691464 0.43168447\n",
      "  0.9076021 ]\n",
      " [0.99358691 0.71366905 0.75677775 0.53834806 0.96950986 0.66303168\n",
      "  0.26509373]]\n"
     ]
    }
   ],
   "source": [
    "#matrix of random numbers\n",
    "print(np.random.rand(4, 2))\n",
    "\n",
    "#if you want to pass in the shape of a pre-existing array\n",
    "print(\"\\n\", np.random.random_sample(a.shape))\n",
    "\n",
    "#the random numbers generated will be between 0 and 1"
   ]
  },
  {
   "cell_type": "code",
   "execution_count": 17,
   "id": "31854a1d",
   "metadata": {},
   "outputs": [
    {
     "name": "stdout",
     "output_type": "stream",
     "text": [
      "[[3 5 3]\n",
      " [6 2 7]\n",
      " [2 2 7]]\n",
      "\n",
      " [[1 2 8]\n",
      " [2 7 5]\n",
      " [2 5 8]]\n"
     ]
    }
   ],
   "source": [
    "#random integer values\n",
    "#np.random.ranint(<startValue>, <endValue>, size)\n",
    "#                 optional      compulsory  compulsory\n",
    "#If start value is not given then 0 will be considered as start value\n",
    "\n",
    "#with start value\n",
    "print(np.random.randint(2, 8, size=(3,3)))\n",
    "\n",
    "#without start value\n",
    "print(\"\\n\", np.random.randint(9, size=(3,3)))"
   ]
  },
  {
   "cell_type": "code",
   "execution_count": 18,
   "id": "ea1b272d",
   "metadata": {},
   "outputs": [
    {
     "name": "stdout",
     "output_type": "stream",
     "text": [
      "[[1. 0. 0. 0. 0.]\n",
      " [0. 1. 0. 0. 0.]\n",
      " [0. 0. 1. 0. 0.]\n",
      " [0. 0. 0. 1. 0.]\n",
      " [0. 0. 0. 0. 1.]]\n"
     ]
    }
   ],
   "source": [
    "#identity matrix\n",
    "#pass dimesion of square matrix\n",
    "print(np.identity(5))"
   ]
  },
  {
   "cell_type": "code",
   "execution_count": 24,
   "id": "b3fa40de",
   "metadata": {},
   "outputs": [
    {
     "name": "stdout",
     "output_type": "stream",
     "text": [
      "[1 1 1 1 2 2 2 2 3 3 3 3]\n",
      "\n",
      " [[1 2 3]\n",
      " [1 2 3]\n",
      " [1 2 3]\n",
      " [1 2 3]]\n"
     ]
    }
   ],
   "source": [
    "#repeat a numpy array\n",
    "a=np.array([1, 2, 3])\n",
    "new_a=np.repeat(a, 4)       #argument is name of the array, the number of times the element is to be repeated\n",
    "print(new_a)\n",
    "\n",
    "#you can also change the way the elements are printed\n",
    "#the above showed the elements being printed the given number of times before moving to the next element\n",
    "#to change the order of printin you have to use a 2d matrix\n",
    "\n",
    "a=np.array([[1, 2, 3]])     #considered a 2d matrix with same values\n",
    "new_a=np.repeat(a, 4, axis=0)       #axis will define which way it is printed\n",
    "print(\"\\n\", new_a)"
   ]
  },
  {
   "cell_type": "code",
   "execution_count": 25,
   "id": "77128a87",
   "metadata": {},
   "outputs": [
    {
     "name": "stdout",
     "output_type": "stream",
     "text": [
      "[4 5 6]\n"
     ]
    }
   ],
   "source": [
    "#create a copy of existing array\n",
    "a=np.array([4, 5, 6])\n",
    "b=a.copy()\n",
    "print(b)"
   ]
  },
  {
   "cell_type": "code",
   "execution_count": null,
   "id": "dd1242d6",
   "metadata": {},
   "outputs": [],
   "source": [
    "#be careful whilst copying.\n",
    "#if you just assign withput using the copy function then changes made in new array will apply to original array."
   ]
  }
 ],
 "metadata": {
  "kernelspec": {
   "display_name": "Python 3",
   "language": "python",
   "name": "python3"
  },
  "language_info": {
   "codemirror_mode": {
    "name": "ipython",
    "version": 3
   },
   "file_extension": ".py",
   "mimetype": "text/x-python",
   "name": "python",
   "nbconvert_exporter": "python",
   "pygments_lexer": "ipython3",
   "version": "3.8.8"
  }
 },
 "nbformat": 4,
 "nbformat_minor": 5
}
