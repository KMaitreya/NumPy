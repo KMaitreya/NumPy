{
 "cells": [
  {
   "cell_type": "code",
   "execution_count": 1,
   "id": "8cd32ceb",
   "metadata": {},
   "outputs": [],
   "source": [
    "#Basic statistics"
   ]
  },
  {
   "cell_type": "code",
   "execution_count": 2,
   "id": "89312f2a",
   "metadata": {},
   "outputs": [],
   "source": [
    "#importing numpy\n",
    "import numpy as np"
   ]
  },
  {
   "cell_type": "code",
   "execution_count": 13,
   "id": "32c9508e",
   "metadata": {},
   "outputs": [
    {
     "name": "stdout",
     "output_type": "stream",
     "text": [
      "[[1 2 3]\n",
      " [4 5 6]] \n",
      "\n",
      "\n",
      "1\n",
      "[1 4]\n",
      "[1 2 3]\n"
     ]
    }
   ],
   "source": [
    "#min value\n",
    "stats=np.array([[1, 2, 3], [4, 5, 6]])\n",
    "\n",
    "print(stats, \"\\n\\n\")\n",
    "\n",
    "#overall min\n",
    "print(np.min(stats))\n",
    "\n",
    "#row-wise min\n",
    "print(np.min(stats, axis=1))\n",
    "\n",
    "#column wise min\n",
    "print(np.min(stats, axis=0))"
   ]
  },
  {
   "cell_type": "code",
   "execution_count": 14,
   "id": "d4a47af5",
   "metadata": {},
   "outputs": [
    {
     "name": "stdout",
     "output_type": "stream",
     "text": [
      "[[1 2 3]\n",
      " [4 5 6]] \n",
      "\n",
      "\n",
      "6\n",
      "[3 6]\n",
      "[4 5 6]\n"
     ]
    }
   ],
   "source": [
    "#max value\n",
    "stats=np.array([[1, 2, 3], [4, 5, 6]])\n",
    "\n",
    "print(stats, \"\\n\\n\")\n",
    "\n",
    "#overall max\n",
    "print(np.max(stats))\n",
    "\n",
    "#row-wise max\n",
    "print(np.max(stats, axis=1))\n",
    "\n",
    "#column wise max\n",
    "print(np.max(stats, axis=0))"
   ]
  },
  {
   "cell_type": "code",
   "execution_count": 15,
   "id": "8327d259",
   "metadata": {},
   "outputs": [
    {
     "name": "stdout",
     "output_type": "stream",
     "text": [
      "[[1 2 3]\n",
      " [4 5 6]] \n",
      "\n",
      "\n",
      "21\n",
      "[ 6 15]\n",
      "[5 7 9]\n"
     ]
    }
   ],
   "source": [
    "#sum of elements\n",
    "stats=np.array([[1, 2, 3], [4, 5, 6]])\n",
    "\n",
    "print(stats, \"\\n\\n\")\n",
    "\n",
    "#overall sum\n",
    "print(np.sum(stats))\n",
    "\n",
    "#row-wise sum\n",
    "print(np.sum(stats, axis=1))\n",
    "\n",
    "#column wise sum\n",
    "print(np.sum(stats, axis=0))"
   ]
  }
 ],
 "metadata": {
  "kernelspec": {
   "display_name": "Python 3",
   "language": "python",
   "name": "python3"
  },
  "language_info": {
   "codemirror_mode": {
    "name": "ipython",
    "version": 3
   },
   "file_extension": ".py",
   "mimetype": "text/x-python",
   "name": "python",
   "nbconvert_exporter": "python",
   "pygments_lexer": "ipython3",
   "version": "3.8.8"
  }
 },
 "nbformat": 4,
 "nbformat_minor": 5
}
