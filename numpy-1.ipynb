{
 "cells": [
  {
   "cell_type": "code",
   "execution_count": 1,
   "id": "b630bf28",
   "metadata": {},
   "outputs": [],
   "source": [
    "#Basics of numpy"
   ]
  },
  {
   "cell_type": "code",
   "execution_count": 17,
   "id": "8918a263",
   "metadata": {},
   "outputs": [],
   "source": [
    "#importing numpy\n",
    "import numpy as np"
   ]
  },
  {
   "cell_type": "code",
   "execution_count": 2,
   "id": "9fa6be57",
   "metadata": {},
   "outputs": [
    {
     "name": "stdout",
     "output_type": "stream",
     "text": [
      "[1 2 3]\n"
     ]
    }
   ],
   "source": [
    "#printing a 1d numpy array\n",
    "a=np.array([1, 2, 3])\n",
    "print(a)"
   ]
  },
  {
   "cell_type": "code",
   "execution_count": 4,
   "id": "c515b532",
   "metadata": {},
   "outputs": [
    {
     "name": "stdout",
     "output_type": "stream",
     "text": [
      "[[1. 2. 3.]\n",
      " [4. 5. 6.]]\n"
     ]
    }
   ],
   "source": [
    "#printing 2d numpy array\n",
    "b=np.array([[1.0, 2.0, 3.0], [4.0, 5.0, 6.0]])\n",
    "print(b)"
   ]
  },
  {
   "cell_type": "code",
   "execution_count": 5,
   "id": "fbf5f48f",
   "metadata": {},
   "outputs": [
    {
     "name": "stdout",
     "output_type": "stream",
     "text": [
      "1\n",
      "2\n"
     ]
    }
   ],
   "source": [
    "#Get dimension of numpy array\n",
    "print(a.ndim)\n",
    "print(b.ndim)"
   ]
  },
  {
   "cell_type": "code",
   "execution_count": 7,
   "id": "9ed34b74",
   "metadata": {},
   "outputs": [
    {
     "name": "stdout",
     "output_type": "stream",
     "text": [
      "(3,)\n",
      "(2, 3)\n"
     ]
    }
   ],
   "source": [
    "#Get shape of the array\n",
    "print(a.shape)             #thie first one will only give us one value becuase the output is a vector\n",
    "print(b.shape)"
   ]
  },
  {
   "cell_type": "code",
   "execution_count": 15,
   "id": "f533e91e",
   "metadata": {},
   "outputs": [
    {
     "name": "stdout",
     "output_type": "stream",
     "text": [
      "int32\n",
      "float64\n",
      "\n",
      "\n",
      "4\n",
      "8\n",
      "\n",
      "\n",
      "12\n",
      "48\n"
     ]
    }
   ],
   "source": [
    "#Get datatype, size and total sizeof memory  used by numpy array\n",
    "\n",
    "#datatype\n",
    "print(a.dtype)\n",
    "print(b.dtype)\n",
    "#These datatypes are by default\n",
    "\n",
    "print(\"\\n\")\n",
    "\n",
    "#size\n",
    "print(a.itemsize)\n",
    "print(b.itemsize)\n",
    "\n",
    "print(\"\\n\")\n",
    "\n",
    "#total size\n",
    "print(a.nbytes)\n",
    "print(b.nbytes)"
   ]
  },
  {
   "cell_type": "code",
   "execution_count": 16,
   "id": "a3db7ac1",
   "metadata": {},
   "outputs": [
    {
     "name": "stdout",
     "output_type": "stream",
     "text": [
      "int16\n",
      "2\n",
      "6\n"
     ]
    }
   ],
   "source": [
    "#we can also specify which dataytpe the array should use\n",
    "c=np.array([9, 10, 11], dtype=\"int16\")\n",
    "\n",
    "#datatype\n",
    "print(c.dtype)\n",
    "\n",
    "#size\n",
    "print(c.itemsize)\n",
    "\n",
    "#total size\n",
    "print(c.nbytes)"
   ]
  }
 ],
 "metadata": {
  "kernelspec": {
   "display_name": "Python 3",
   "language": "python",
   "name": "python3"
  },
  "language_info": {
   "codemirror_mode": {
    "name": "ipython",
    "version": 3
   },
   "file_extension": ".py",
   "mimetype": "text/x-python",
   "name": "python",
   "nbconvert_exporter": "python",
   "pygments_lexer": "ipython3",
   "version": "3.8.8"
  }
 },
 "nbformat": 4,
 "nbformat_minor": 5
}
