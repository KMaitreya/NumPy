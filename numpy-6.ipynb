{
 "cells": [
  {
   "cell_type": "code",
   "execution_count": 1,
   "id": "fdf562d8",
   "metadata": {},
   "outputs": [],
   "source": [
    "#Reorganizing arrays"
   ]
  },
  {
   "cell_type": "code",
   "execution_count": 2,
   "id": "6c1b5870",
   "metadata": {},
   "outputs": [],
   "source": [
    "#importing numpy\n",
    "import numpy as np"
   ]
  },
  {
   "cell_type": "code",
   "execution_count": 6,
   "id": "c444dd92",
   "metadata": {},
   "outputs": [
    {
     "name": "stdout",
     "output_type": "stream",
     "text": [
      "[[ 1  2  3  4  5]\n",
      " [ 6  7  8  9 10]] \n",
      "\n",
      "[[ 1]\n",
      " [ 2]\n",
      " [ 3]\n",
      " [ 4]\n",
      " [ 5]\n",
      " [ 6]\n",
      " [ 7]\n",
      " [ 8]\n",
      " [ 9]\n",
      " [10]]\n"
     ]
    }
   ],
   "source": [
    "#reshaping an array\n",
    "before=np.array([[1, 2, 3, 4, 5], [6, 7, 8, 9, 10]])\n",
    "print(before, \"\\n\")\n",
    "\n",
    "after=before.reshape((10, 1))       #new r and c should have same number of values\n",
    "print(after)"
   ]
  },
  {
   "cell_type": "code",
   "execution_count": 8,
   "id": "26f84a22",
   "metadata": {},
   "outputs": [
    {
     "name": "stdout",
     "output_type": "stream",
     "text": [
      "[1 2 3 4]\n",
      "[5 6 7 8] \n",
      "\n",
      "[[1 2 3 4]\n",
      " [5 6 7 8]]\n"
     ]
    }
   ],
   "source": [
    "#vertically stacking vectors\n",
    "v1=np.array([1, 2, 3, 4])\n",
    "print(v1)\n",
    "v2=np.array([5, 6, 7, 8])\n",
    "print(v2, \"\\n\")\n",
    "\n",
    "v3=np.vstack([v1, v2])\n",
    "print(v3)"
   ]
  },
  {
   "cell_type": "code",
   "execution_count": 10,
   "id": "b40df456",
   "metadata": {},
   "outputs": [
    {
     "name": "stdout",
     "output_type": "stream",
     "text": [
      "[1 2 3 4]\n",
      "[5 6 7 8] \n",
      "\n",
      "[1 2 3 4 5 6 7 8]\n"
     ]
    }
   ],
   "source": [
    "#horizontally stacking vectors\n",
    "h1=np.array([1, 2, 3, 4])\n",
    "print(v1)\n",
    "h2=np.array([5, 6, 7, 8])\n",
    "print(v2, \"\\n\")\n",
    "\n",
    "h3=np.hstack([h1, h2])\n",
    "print(v3)"
   ]
  },
  {
   "cell_type": "code",
   "execution_count": null,
   "id": "d0e30ac6",
   "metadata": {},
   "outputs": [],
   "source": []
  }
 ],
 "metadata": {
  "kernelspec": {
   "display_name": "Python 3",
   "language": "python",
   "name": "python3"
  },
  "language_info": {
   "codemirror_mode": {
    "name": "ipython",
    "version": 3
   },
   "file_extension": ".py",
   "mimetype": "text/x-python",
   "name": "python",
   "nbconvert_exporter": "python",
   "pygments_lexer": "ipython3",
   "version": "3.8.8"
  }
 },
 "nbformat": 4,
 "nbformat_minor": 5
}
