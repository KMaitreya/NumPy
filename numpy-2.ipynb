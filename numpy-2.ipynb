{
 "cells": [
  {
   "cell_type": "code",
   "execution_count": 3,
   "id": "abc28e83",
   "metadata": {},
   "outputs": [],
   "source": [
    "#Accessing/Chnaging specific elements, rows, columns, etc"
   ]
  },
  {
   "cell_type": "code",
   "execution_count": 7,
   "id": "3818753f",
   "metadata": {},
   "outputs": [],
   "source": [
    "#importing numpy\n",
    "import numpy as np"
   ]
  },
  {
   "cell_type": "code",
   "execution_count": 23,
   "id": "2bcfeb2b",
   "metadata": {},
   "outputs": [
    {
     "name": "stdout",
     "output_type": "stream",
     "text": [
      "[[ 1  2  3  4  5  6  7]\n",
      " [ 8  9 10 11 12 13 14]]\n"
     ]
    }
   ],
   "source": [
    "a=np.array([[1, 2, 3, 4, 5, 6, 7], [8, 9, 10, 11, 12, 13, 14]])\n",
    "print(a)"
   ]
  },
  {
   "cell_type": "code",
   "execution_count": 11,
   "id": "b5cfbf52",
   "metadata": {},
   "outputs": [],
   "source": [
    "#REMEMBER INDEXING STARTS FROM 0 NOT 1"
   ]
  },
  {
   "cell_type": "code",
   "execution_count": 24,
   "id": "b6a938e5",
   "metadata": {},
   "outputs": [
    {
     "name": "stdout",
     "output_type": "stream",
     "text": [
      "13\n"
     ]
    }
   ],
   "source": [
    "#get a specific element <arrayname>[row_index]\n",
    "#accessing element in row 2 column 6\n",
    "print(a[1, 5])"
   ]
  },
  {
   "cell_type": "code",
   "execution_count": 13,
   "id": "9fc57225",
   "metadata": {},
   "outputs": [
    {
     "name": "stdout",
     "output_type": "stream",
     "text": [
      "[1 2 3 4 5 6 7]\n"
     ]
    }
   ],
   "source": [
    "#Get specific row\n",
    "#accessing 1st row\n",
    "print(a[0, :])"
   ]
  },
  {
   "cell_type": "code",
   "execution_count": 25,
   "id": "d6531678",
   "metadata": {},
   "outputs": [
    {
     "name": "stdout",
     "output_type": "stream",
     "text": [
      "[ 5 12]\n"
     ]
    }
   ],
   "source": [
    "#Get specific column\n",
    "#accessing 5th column\n",
    "print(a[:, 4])"
   ]
  },
  {
   "cell_type": "code",
   "execution_count": 26,
   "id": "0a3a34f1",
   "metadata": {},
   "outputs": [
    {
     "name": "stdout",
     "output_type": "stream",
     "text": [
      "[2 4 6]\n"
     ]
    }
   ],
   "source": [
    "#printing elements are particular interval\n",
    "#<arrayname>[row_num, <startindex>:<endindex>:<intervalsize>]\n",
    "#<arrayname>[<startindex>:<endindex>:<intervalsize>, col_num]\n",
    "print(a[0, 1:6:2])\n",
    "#this will go to the first row\n",
    "#print elements from index 1 to 6 at an interval of 2 elements"
   ]
  },
  {
   "cell_type": "code",
   "execution_count": 27,
   "id": "85e958d7",
   "metadata": {},
   "outputs": [
    {
     "name": "stdout",
     "output_type": "stream",
     "text": [
      "[[ 1  2  3  4  5  6  7]\n",
      " [ 8  9 10 11 12 13 14]] \n",
      "\n",
      "[[ 1  2  3  4  5  6  7]\n",
      " [ 8  9 10 11 12 21 14]]\n"
     ]
    }
   ],
   "source": [
    "#change values of particular elements\n",
    "#changing value of element at row 2 column 6\n",
    "print(a,\"\\n\")\n",
    "\n",
    "a[1, 5]=21\n",
    "print(a)"
   ]
  },
  {
   "cell_type": "code",
   "execution_count": 30,
   "id": "5f8b1fc3",
   "metadata": {},
   "outputs": [
    {
     "name": "stdout",
     "output_type": "stream",
     "text": [
      "[[  1   2   3   4   5  60   7]\n",
      " [  8   9  10  11  12 210  14]] \n",
      "\n",
      "[[  1   2   3   4   5  60   7]\n",
      " [  8   9  10  11  12 210  14]]\n"
     ]
    }
   ],
   "source": [
    "#You can also replace entire rows or columns\n",
    "#replacing column 6\n",
    "print(a,\"\\n\")\n",
    "\n",
    "a[:, 5]=[60, 210]\n",
    "print(a)\n",
    "\n",
    "#the same goes with rows"
   ]
  },
  {
   "cell_type": "code",
   "execution_count": null,
   "id": "155ca0d4",
   "metadata": {},
   "outputs": [],
   "source": [
    "#Everything above also works for 3d numpy arrays"
   ]
  }
 ],
 "metadata": {
  "kernelspec": {
   "display_name": "Python 3",
   "language": "python",
   "name": "python3"
  },
  "language_info": {
   "codemirror_mode": {
    "name": "ipython",
    "version": 3
   },
   "file_extension": ".py",
   "mimetype": "text/x-python",
   "name": "python",
   "nbconvert_exporter": "python",
   "pygments_lexer": "ipython3",
   "version": "3.8.8"
  }
 },
 "nbformat": 4,
 "nbformat_minor": 5
}
